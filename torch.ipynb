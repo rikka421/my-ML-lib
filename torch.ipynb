{
 "cells": [
  {
   "cell_type": "code",
   "execution_count": 1,
   "id": "initial_id",
   "metadata": {
    "ExecuteTime": {
     "end_time": "2024-10-28T15:53:59.446553Z",
     "start_time": "2024-10-28T15:53:59.439553Z"
    },
    "collapsed": true
   },
   "outputs": [
    {
     "name": "stdout",
     "output_type": "stream",
     "text": [
      "hello world\n"
     ]
    }
   ],
   "source": [
    "print(\"hello world\")"
   ]
  },
  {
   "cell_type": "code",
   "execution_count": 2,
   "id": "acd5abf8e73f0f68",
   "metadata": {
    "ExecuteTime": {
     "end_time": "2024-10-28T15:53:59.478022Z",
     "start_time": "2024-10-28T15:53:59.468022Z"
    }
   },
   "outputs": [
    {
     "name": "stdout",
     "output_type": "stream",
     "text": [
      "2.3.0\n"
     ]
    }
   ],
   "source": [
    "import torch\n",
    "print(torch.__version__) "
   ]
  },
  {
   "cell_type": "code",
   "execution_count": 3,
   "id": "bc9dbf907cbc3bfb",
   "metadata": {
    "ExecuteTime": {
     "end_time": "2024-10-28T15:53:59.510025Z",
     "start_time": "2024-10-28T15:53:59.496022Z"
    }
   },
   "outputs": [],
   "source": [
    "import numpy as np"
   ]
  },
  {
   "cell_type": "code",
   "execution_count": 4,
   "id": "326b75bfb4dd1ca5",
   "metadata": {
    "ExecuteTime": {
     "end_time": "2024-10-28T15:53:59.556102Z",
     "start_time": "2024-10-28T15:53:59.532560Z"
    }
   },
   "outputs": [
    {
     "name": "stdout",
     "output_type": "stream",
     "text": [
      "(64, 784) (784, 128) (128,)\n",
      "(64, 128)\n"
     ]
    }
   ],
   "source": [
    "inner_size = 128\n",
    "\n",
    "image = np.random.rand(64, 28*28)\n",
    "weight = np.random.rand(28*28, inner_size)\n",
    "bias = np.random.rand(inner_size)\n",
    "print(image.shape, weight.shape, bias.shape)\n",
    "\n",
    "result = image @ weight + bias\n",
    "print(result.shape)"
   ]
  },
  {
   "cell_type": "code",
   "execution_count": 5,
   "id": "6c36f4ca4db3e5de",
   "metadata": {
    "ExecuteTime": {
     "end_time": "2024-10-28T15:53:59.587956Z",
     "start_time": "2024-10-28T15:53:59.574115Z"
    }
   },
   "outputs": [
    {
     "ename": "ModuleNotFoundError",
     "evalue": "No module named 'torchvision'",
     "output_type": "error",
     "traceback": [
      "\u001b[1;31m---------------------------------------------------------------------------\u001b[0m",
      "\u001b[1;31mModuleNotFoundError\u001b[0m                       Traceback (most recent call last)",
      "Cell \u001b[1;32mIn[5], line 1\u001b[0m\n\u001b[1;32m----> 1\u001b[0m \u001b[38;5;28;01mfrom\u001b[39;00m \u001b[38;5;21;01mtorchvision\u001b[39;00m \u001b[38;5;28;01mimport\u001b[39;00m datasets, transforms\n",
      "\u001b[1;31mModuleNotFoundError\u001b[0m: No module named 'torchvision'"
     ]
    }
   ],
   "source": [
    "from torchvision import datasets, transforms"
   ]
  },
  {
   "cell_type": "code",
   "execution_count": 94,
   "id": "90c4804c9f66aefc",
   "metadata": {
    "ExecuteTime": {
     "end_time": "2024-10-28T15:53:59.618766Z",
     "start_time": "2024-10-28T15:53:59.604204Z"
    }
   },
   "outputs": [],
   "source": [
    "from torch.utils.data import DataLoader"
   ]
  },
  {
   "cell_type": "code",
   "execution_count": 95,
   "id": "8f4a73886fb3ecf1",
   "metadata": {
    "ExecuteTime": {
     "end_time": "2024-10-28T15:53:59.713335Z",
     "start_time": "2024-10-28T15:53:59.640812Z"
    }
   },
   "outputs": [],
   "source": [
    "\n",
    "# 数据预处理\n",
    "transform = transforms.Compose([\n",
    "    transforms.ToTensor(),  # 将图像转换为张量\n",
    "    # transforms.Normalize((0.5,), (0.5,))  # 归一化\n",
    "    transforms.Lambda(lambda x: x.view(-1)),  # 张量转换为一维\n",
    "])\n",
    "target_transform = transforms.Compose([\n",
    "    transforms.Lambda(lambda y: torch.zeros(10, dtype=torch.float).scatter_(dim=0, index=torch.tensor(y), value=1)),  # onehot\n",
    "])\n",
    "\n",
    "# 加载训练和测试数据集\n",
    "# m * (torch.Size([1, 28, 28]), int), 每个样本为(X, y)元组, 其中X是图片, y是标签\n",
    "train_dataset = datasets.MNIST(\n",
    "    root='./data', \n",
    "    train=True, \n",
    "    download=True, \n",
    "    transform=transform,\n",
    "    target_transform=target_transform\n",
    "    )\n",
    "test_dataset = datasets.MNIST(\n",
    "    root='./data', \n",
    "    train=False, \n",
    "    download=True, \n",
    "    transform=transform,\n",
    "    target_transform=target_transform\n",
    "    )\n",
    "\n",
    "train_loader = DataLoader(dataset=train_dataset, batch_size=64, shuffle=True)\n",
    "test_loader = DataLoader(dataset=test_dataset, batch_size=64, shuffle=False)\n"
   ]
  },
  {
   "cell_type": "code",
   "execution_count": 96,
   "id": "d1de6bc309182c87",
   "metadata": {
    "ExecuteTime": {
     "end_time": "2024-10-28T15:53:59.743871Z",
     "start_time": "2024-10-28T15:53:59.730855Z"
    }
   },
   "outputs": [
    {
     "data": {
      "text/plain": [
       "'for images, labels in train_loader:\\n    print(images.shape)\\n    print(labels.shape)\\n'"
      ]
     },
     "execution_count": 96,
     "metadata": {},
     "output_type": "execute_result"
    }
   ],
   "source": [
    "\"\"\"for images, labels in train_loader:\n",
    "    print(images.shape)\n",
    "    print(labels.shape)\n",
    "\"\"\""
   ]
  },
  {
   "cell_type": "code",
   "execution_count": 97,
   "id": "4482320c3deda9b8",
   "metadata": {
    "ExecuteTime": {
     "end_time": "2024-10-28T15:53:59.774860Z",
     "start_time": "2024-10-28T15:53:59.761830Z"
    }
   },
   "outputs": [],
   "source": [
    "# 定义一个简单的神经网络\n",
    "class SimpleNN(torch.nn.Module):\n",
    "    def __init__(self):\n",
    "        super(SimpleNN, self).__init__()\n",
    "        # 定义层：一个两层的全连接网络\n",
    "        self.fc1 = torch.nn.Linear(28 * 28, inner_size)  # 输入层到隐藏层\n",
    "        self.fc2 = torch.nn.Linear(inner_size, 10)  # 隐藏层到输出层\n",
    "\n",
    "    def forward(self, x):\n",
    "        x = x.view(-1, 28 * 28)  # 展平输入（假设输入是28x28图像）\n",
    "        x = torch.relu(self.fc1(x))  # 激活函数 ReLU\n",
    "        x = self.fc2(x)  # 输出层\n",
    "        return x\n"
   ]
  },
  {
   "cell_type": "code",
   "execution_count": 98,
   "id": "111995470bf5f338",
   "metadata": {
    "ExecuteTime": {
     "end_time": "2024-10-28T15:53:59.805948Z",
     "start_time": "2024-10-28T15:53:59.791091Z"
    }
   },
   "outputs": [],
   "source": [
    "def d_CrossEntropyLoss(outputs, labels):\n",
    "    # outputs: m * 10, labels: m * 10 -> m * 10\n",
    "    # result = d   [- sum (y_i + log sum e^y ) / N] / dy_i = \n",
    "    outputs = outputs.numpy()\n",
    "    labels = labels.numpy()\n",
    "    \n",
    "    exp_tar = np.exp(outputs)\n",
    "    exp_sum = np.sum(np.exp(outputs), axis=1).reshape(len(labels), 1)\n",
    "    # result = - torch.log(exp_tar / exp_sum) / len(labels)\n",
    "    \n",
    "    pre_d_value = exp_tar / exp_sum\n",
    "    \n",
    "    pre_d_value -= labels\n",
    "    \n",
    "    pre_d_value *= 1 / len(labels)\n",
    "    return pre_d_value\n",
    "    "
   ]
  },
  {
   "cell_type": "code",
   "execution_count": 99,
   "id": "7621bbddeb0f89d2",
   "metadata": {
    "ExecuteTime": {
     "end_time": "2024-10-28T15:53:59.851867Z",
     "start_time": "2024-10-28T15:53:59.832501Z"
    }
   },
   "outputs": [],
   "source": [
    "import torch.optim as optim\n",
    "# 训练函数\n",
    "def train(model, train_loader, criterion, optimizer, num_epochs=5, lr=1e-3, my_model=True):\n",
    "    for epoch in range(num_epochs):\n",
    "        for images, labels in train_loader:\n",
    "            # 前向传播\n",
    "            if my_model:\n",
    "                images = images.numpy()\n",
    "                outputs = model.forward(images)\n",
    "                outputs = torch.from_numpy(outputs)\n",
    "            else:\n",
    "                outputs = model(images)\n",
    "            \n",
    "            loss = criterion(outputs, labels)\n",
    "            \n",
    "            if my_model:\n",
    "                # Loss = -1/N (y - log sum e^hat_y)\n",
    "                # d log sum e^hat_y / d hat_y = e^hat_y / log sum e^hat_y\n",
    "                loss = criterion.forward(outputs, labels)\n",
    "                # print(loss, np.max(output), np.max(train_labels))\n",
    "                #exit(0)\n",
    "                # 反向传播\n",
    "                dloss = criterion.backward(loss)\n",
    "                model.backward(dloss)\n",
    "                # 参数更新\n",
    "                model.step(lr)\n",
    "            else:\n",
    "                # 反向传播和优化\n",
    "                optimizer.zero_grad()  # 清除上一步的梯度\n",
    "                loss.backward()  # 计算梯度\n",
    "                optimizer.step()  # 更新参数\n",
    "\n",
    "        print(f'Epoch [{epoch+1}/{num_epochs}], Loss: {loss.item():.4f}')"
   ]
  },
  {
   "cell_type": "code",
   "execution_count": 100,
   "id": "1f2257aeabf82c2d",
   "metadata": {
    "ExecuteTime": {
     "end_time": "2024-10-28T15:53:59.898053Z",
     "start_time": "2024-10-28T15:53:59.884033Z"
    }
   },
   "outputs": [],
   "source": [
    "def evaluate(model, test_loader, my_model=True):\n",
    "    if not my_model:\n",
    "        model.eval()  # 切换到评估模式\n",
    "    correct = 0\n",
    "    total = 0\n",
    "    with torch.no_grad():\n",
    "        for images, labels in test_loader:\n",
    "            if my_model:\n",
    "                images = images.numpy()\n",
    "                outputs = model.forward(images)\n",
    "                outputs = torch.from_numpy(outputs)\n",
    "            else:\n",
    "                outputs = model(images)\n",
    "            _, predicted = torch.max(outputs.data, 1)\n",
    "            _, labels = torch.max(labels, 1)\n",
    "            total += labels.size(0)\n",
    "            correct += (predicted == labels).sum().item()\n",
    "\n",
    "    print(f'Accuracy of the model on the test dataset: {100 * correct / total:.2f}%')\n"
   ]
  },
  {
   "cell_type": "code",
   "execution_count": 101,
   "id": "5ecad5b0ee0984c9",
   "metadata": {
    "ExecuteTime": {
     "end_time": "2024-10-28T15:53:59.929405Z",
     "start_time": "2024-10-28T15:53:59.916793Z"
    }
   },
   "outputs": [],
   "source": [
    "from NeuralNetworks import NeuralNetwork\n",
    "from NeuralNetworks import ReLu_Layer, FC_Layer\n",
    "\n",
    "# 定义自己的神经网络\n",
    "class MyNN(NeuralNetwork):\n",
    "    def __init__(self, input_size, output_size):\n",
    "        self.fc1 = FC_Layer(input_size, inner_size)\n",
    "        self.ac1 = ReLu_Layer(inner_size, inner_size)\n",
    "        self.fc2 = FC_Layer(inner_size, inner_size)\n",
    "        self.ac2 = FC_Layer(inner_size, inner_size)\n",
    "        self.fc3 = FC_Layer(inner_size, output_size)\n",
    "\n",
    "        self.layers = [self.fc1, self.ac1, self.fc2, self.ac2, self.fc3]\n",
    "        self.update_layer_list = [self.fc1, self.fc2, self.fc3]\n",
    "\n"
   ]
  },
  {
   "cell_type": "code",
   "execution_count": null,
   "id": "36e1146d",
   "metadata": {},
   "outputs": [],
   "source": [
    "\n",
    "\n",
    "class Criterion():\n",
    "    def __init__(self):\n",
    "        self.input = None\n",
    "        self.label = None\n",
    "\n",
    "    def forward(self, inputs, labels):\n",
    "        raise NotImplementedError\n",
    "    \n",
    "    def backward(self, in_grad):\n",
    "        raise NotImplementedError\n",
    "\n",
    "class SquareLoss(Criterion):\n",
    "    def forward(self, input, label):\n",
    "        # input: m*output  label: m * output\n",
    "        self.input = input\n",
    "        self.label = label\n",
    "        # print(self.input.shape, self.label.shape)\n",
    "\n",
    "        outputs = np.sum(np.square(input - label)) / (2 * label.size)\n",
    "        # print(np.max(input), np.max(label), np.max(outputs))\n",
    "        return outputs\n",
    "\n",
    "    def backward(self, in_grad):\n",
    "        # return m * output\n",
    "        return (self.input - self.label) / (self.label.shape[1])\n"
   ]
  },
  {
   "cell_type": "code",
   "execution_count": 102,
   "id": "a92a287823e65180",
   "metadata": {
    "ExecuteTime": {
     "end_time": "2024-10-28T15:55:17.649675Z",
     "start_time": "2024-10-28T15:53:59.962939Z"
    }
   },
   "outputs": [
    {
     "name": "stdout",
     "output_type": "stream",
     "text": [
      "Epoch [1/5], Loss: 2.3036\n",
      "Epoch [2/5], Loss: 2.3029\n",
      "Epoch [3/5], Loss: 2.3033\n",
      "Epoch [4/5], Loss: 2.3033\n",
      "Epoch [5/5], Loss: 2.3036\n"
     ]
    }
   ],
   "source": [
    "# 创建网络实例\n",
    "model = MyNN(28*28, 10)\n",
    "optimizer = None  # 损失函数和优化器\n",
    "criterion = torch.nn.CrossEntropyLoss()  # 交叉熵损失（用于分类任务）\n",
    "\n",
    "# 开始训练\n",
    "train(model, train_loader, criterion, optimizer, my_model=True)"
   ]
  },
  {
   "cell_type": "code",
   "execution_count": 103,
   "id": "e0bc7f7cd9d064a9",
   "metadata": {
    "ExecuteTime": {
     "end_time": "2024-10-28T15:55:19.830910Z",
     "start_time": "2024-10-28T15:55:17.715423Z"
    }
   },
   "outputs": [
    {
     "name": "stdout",
     "output_type": "stream",
     "text": [
      "Accuracy of the model on the test dataset: 3.22%\n"
     ]
    }
   ],
   "source": [
    "evaluate(model, test_loader, my_model=True)"
   ]
  },
  {
   "cell_type": "code",
   "execution_count": 104,
   "id": "6e0eea5a3292bfc5",
   "metadata": {
    "ExecuteTime": {
     "end_time": "2024-10-28T15:55:19.923121Z",
     "start_time": "2024-10-28T15:55:19.909089Z"
    }
   },
   "outputs": [],
   "source": [
    "# 创建网络实例\n",
    "model = SimpleNN()\n",
    "optimizer = optim.Adam(model.parameters(), lr=0.001)  # 使用 Adam 优化器# 损失函数和优化器\n",
    "criterion = torch.nn.CrossEntropyLoss()  # 交叉熵损失（用于分类任务）\n",
    "\n",
    "# 开始训练\n",
    "# train(model, train_loader, criterion, optimizer, my_model=False)"
   ]
  },
  {
   "cell_type": "code",
   "execution_count": 105,
   "id": "ace3b4394900950f",
   "metadata": {
    "ExecuteTime": {
     "end_time": "2024-10-28T15:55:19.969109Z",
     "start_time": "2024-10-28T15:55:19.955541Z"
    }
   },
   "outputs": [],
   "source": [
    "# 评估模型\n",
    "# evaluate(model, test_loader, my_model=False)"
   ]
  }
 ],
 "metadata": {
  "kernelspec": {
   "display_name": "daily",
   "language": "python",
   "name": "python3"
  },
  "language_info": {
   "codemirror_mode": {
    "name": "ipython",
    "version": 3
   },
   "file_extension": ".py",
   "mimetype": "text/x-python",
   "name": "python",
   "nbconvert_exporter": "python",
   "pygments_lexer": "ipython3",
   "version": "3.10.14"
  }
 },
 "nbformat": 4,
 "nbformat_minor": 5
}
