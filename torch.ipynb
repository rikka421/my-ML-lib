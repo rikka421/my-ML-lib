{
 "cells": [
  {
   "metadata": {
    "ExecuteTime": {
     "end_time": "2024-10-30T13:39:01.990926Z",
     "start_time": "2024-10-30T13:39:01.898399Z"
    }
   },
   "cell_type": "code",
   "source": [
    "import os\n",
    "\n",
    "import numpy.random\n",
    "\n",
    "os.chdir(\"C:\\\\Users\\\\86173\\\\Desktop\\\\eutopia\\\\my-ML-lib\")"
   ],
   "id": "eb3942253db4077d",
   "outputs": [],
   "execution_count": 1
  },
  {
   "metadata": {
    "ExecuteTime": {
     "end_time": "2024-10-30T13:39:04.938907Z",
     "start_time": "2024-10-30T13:39:02.957688Z"
    }
   },
   "cell_type": "code",
   "source": "import torch",
   "id": "acd5abf8e73f0f68",
   "outputs": [],
   "execution_count": 2
  },
  {
   "metadata": {
    "ExecuteTime": {
     "end_time": "2024-10-30T13:39:04.954913Z",
     "start_time": "2024-10-30T13:39:04.943902Z"
    }
   },
   "cell_type": "code",
   "source": "import numpy as np",
   "id": "bc9dbf907cbc3bfb",
   "outputs": [],
   "execution_count": 3
  },
  {
   "metadata": {
    "ExecuteTime": {
     "end_time": "2024-10-30T13:39:07.048889Z",
     "start_time": "2024-10-30T13:39:04.973418Z"
    }
   },
   "cell_type": "code",
   "source": "from torchvision import datasets, transforms",
   "id": "6c36f4ca4db3e5de",
   "outputs": [],
   "execution_count": 4
  },
  {
   "metadata": {
    "ExecuteTime": {
     "end_time": "2024-10-30T13:39:07.080523Z",
     "start_time": "2024-10-30T13:39:07.066527Z"
    }
   },
   "cell_type": "code",
   "source": "from torch.utils.data import DataLoader",
   "id": "90c4804c9f66aefc",
   "outputs": [],
   "execution_count": 5
  },
  {
   "metadata": {
    "ExecuteTime": {
     "end_time": "2024-10-30T13:39:07.127501Z",
     "start_time": "2024-10-30T13:39:07.114490Z"
    }
   },
   "cell_type": "code",
   "source": [
    "from MyDataLoader import *\n",
    "from MyCriterion import *\n",
    "from MyOptimizer import *\n",
    "from MyLayer import *\n",
    "from MyNeuralNetworks import *"
   ],
   "id": "ff186b6c4eb01186",
   "outputs": [],
   "execution_count": 6
  },
  {
   "metadata": {
    "ExecuteTime": {
     "end_time": "2024-10-30T13:39:07.158522Z",
     "start_time": "2024-10-30T13:39:07.132491Z"
    }
   },
   "cell_type": "code",
   "source": [
    "numpy.random.seed(42)\n",
    "torch.manual_seed(42)"
   ],
   "id": "9d0e0f713cac4abd",
   "outputs": [
    {
     "data": {
      "text/plain": [
       "<torch._C.Generator at 0x195be9ac710>"
      ]
     },
     "execution_count": 7,
     "metadata": {},
     "output_type": "execute_result"
    }
   ],
   "execution_count": 7
  },
  {
   "cell_type": "code",
   "id": "8f4a73886fb3ecf1",
   "metadata": {
    "ExecuteTime": {
     "end_time": "2024-10-30T13:39:07.663676Z",
     "start_time": "2024-10-30T13:39:07.615988Z"
    }
   },
   "source": [
    "# 数据预处理\n",
    "transform = transforms.Compose([\n",
    "    transforms.ToTensor(),  # 将图像转换为张量\n",
    "    # transforms.Normalize((0.5,), (0.5,))  # 归一化\n",
    "    transforms.Lambda(lambda x: x.view(-1)),  # 张量转换为一维\n",
    "])\n",
    "target_transform = transforms.Compose([\n",
    "    transforms.Lambda(lambda y: torch.zeros(10, dtype=torch.float).scatter_(dim=0, index=torch.tensor(y), value=1)),  # onehot\n",
    "])\n",
    "\n",
    "# 加载训练和测试数据集\n",
    "# m * (torch.Size([1, 28, 28]), int), 每个样本为(X, y)元组, 其中X是图片, y是标签\n",
    "train_dataset = datasets.MNIST(\n",
    "    root='./data', \n",
    "    train=True, \n",
    "    download=True, \n",
    "    transform=transform,\n",
    "    target_transform=target_transform\n",
    "    )\n",
    "test_dataset = datasets.MNIST(\n",
    "    root='./data', \n",
    "    train=False, \n",
    "    download=True, \n",
    "    transform=transform,\n",
    "    target_transform=target_transform\n",
    "    )\n",
    "\n",
    "train_loader = DataLoader(dataset=train_dataset, batch_size=64, shuffle=True)\n",
    "test_loader = DataLoader(dataset=test_dataset, batch_size=64, shuffle=False)\n"
   ],
   "outputs": [],
   "execution_count": 8
  },
  {
   "cell_type": "code",
   "id": "4482320c3deda9b8",
   "metadata": {
    "ExecuteTime": {
     "end_time": "2024-10-30T13:39:08.669715Z",
     "start_time": "2024-10-30T13:39:08.653414Z"
    }
   },
   "source": [
    "# 定义一个简单的神经网络\n",
    "class SimpleNN(torch.nn.Module):\n",
    "    def __init__(self):\n",
    "        super(SimpleNN, self).__init__()\n",
    "        # 定义层：一个两层的全连接网络\n",
    "        self.fc1 = torch.nn.Linear(input_size, inner_size)  # 输入层到隐藏层\n",
    "        self.fc2 = torch.nn.Linear(inner_size, output_size)  # 隐藏层到输出层\n",
    "\n",
    "    def forward(self, x):\n",
    "        x = x.view(-1, input_size)  # 展平输入（假设输入是28x28图像）\n",
    "        x = torch.relu(self.fc1(x))  # 激活函数 ReLU\n",
    "        x = self.fc2(x)  # 输出层\n",
    "        return x\n"
   ],
   "outputs": [],
   "execution_count": 9
  },
  {
   "metadata": {
    "ExecuteTime": {
     "end_time": "2024-10-30T13:39:09.136030Z",
     "start_time": "2024-10-30T13:39:09.117065Z"
    }
   },
   "cell_type": "code",
   "source": [
    "class MyNN(MyNeuralNetwork):\n",
    "    def __init__(self, input_size, hidden_size, output_size):\n",
    "        super(MyNN, self).__init__()\n",
    "        fc1 = FC_Layer(input_size, hidden_size)\n",
    "        relu1 = ReLu_Layer(hidden_size, hidden_size)\n",
    "        fc2 = FC_Layer(hidden_size, output_size)\n",
    "        self.layers = [fc1, relu1, fc2]\n",
    "        self.update_layer_list = [fc1, fc2]"
   ],
   "id": "a193cb0d59ec740b",
   "outputs": [],
   "execution_count": 10
  },
  {
   "cell_type": "code",
   "id": "7621bbddeb0f89d2",
   "metadata": {
    "ExecuteTime": {
     "end_time": "2024-10-30T13:39:09.902993Z",
     "start_time": "2024-10-30T13:39:09.893980Z"
    }
   },
   "source": [
    "import torch.optim as optim\n",
    "# 训练函数\n",
    "def train(model, train_loader, criterion, optimizer, num_epochs=5, lr=1e-3, my_model=True):\n",
    "    for epoch in range(num_epochs):\n",
    "        for images, labels in train_loader:\n",
    "            # 前向传播\n",
    "            if my_model:\n",
    "                images = images.numpy()\n",
    "                labels = labels.numpy()\n",
    "                \n",
    "                outputs = model.forward(images)\n",
    "                loss = criterion.forward(outputs, labels)\n",
    "                \n",
    "                in_grad = criterion.backward()\n",
    "                model.backward(in_grad)\n",
    "                grads = model.get_grads()\n",
    "                optimizer.step(grads)  # 更新参数\n",
    "            else:\n",
    "                outputs = model(images)\n",
    "                loss = criterion(outputs, labels)\n",
    "                # 反向传播和优化\n",
    "                optimizer.zero_grad()  # 清除上一步的梯度\n",
    "                loss.backward()  # 计算梯度\n",
    "                optimizer.step()  # 更新参数\n",
    "\n",
    "        print(f'Epoch [{epoch+1}/{num_epochs}], Loss: {loss.item():.4f}')"
   ],
   "outputs": [],
   "execution_count": 11
  },
  {
   "cell_type": "code",
   "id": "1f2257aeabf82c2d",
   "metadata": {
    "ExecuteTime": {
     "end_time": "2024-10-30T13:39:10.637829Z",
     "start_time": "2024-10-30T13:39:10.626829Z"
    }
   },
   "source": [
    "def evaluate(model, test_loader, my_model=True):\n",
    "    if not my_model:\n",
    "        model.eval()  # 切换到评估模式\n",
    "    correct = 0\n",
    "    total = 0\n",
    "    with torch.no_grad():\n",
    "        for images, labels in test_loader:\n",
    "            if my_model:\n",
    "                images = images.numpy()\n",
    "                outputs = model.forward(images)\n",
    "                outputs = torch.from_numpy(outputs)\n",
    "            else:\n",
    "                outputs = model(images)\n",
    "            _, predicted = torch.max(outputs.data, 1)\n",
    "            _, labels = torch.max(labels, 1)\n",
    "            total += labels.size(0)\n",
    "            correct += (predicted == labels).sum().item()\n",
    "\n",
    "    print(f'Accuracy of the model on the test dataset: {100 * correct / total:.2f}%')\n"
   ],
   "outputs": [],
   "execution_count": 12
  },
  {
   "metadata": {
    "ExecuteTime": {
     "end_time": "2024-10-30T13:39:12.395620Z",
     "start_time": "2024-10-30T13:39:12.377629Z"
    }
   },
   "cell_type": "code",
   "source": [
    "input_size = 28 * 28\n",
    "inner_size = 128\n",
    "output_size = 10"
   ],
   "id": "527f1ba1fa590eca",
   "outputs": [],
   "execution_count": 13
  },
  {
   "cell_type": "code",
   "id": "a92a287823e65180",
   "metadata": {},
   "source": [
    "# 创建网络实例\n",
    "my_model = MyNN(input_size, inner_size, output_size)\n",
    "params = my_model.get_params()\n",
    "optimizer = SimpleSGD(params)\n",
    "criterion = CrossEntropyLoss() \n",
    "\n",
    "print(\"MyNN\", f\"隐藏层大小:{inner_size}\", \"SimpleSGD优化器\")\n",
    "train(my_model, train_loader, criterion, optimizer, my_model=True)\n",
    "evaluate(my_model, test_loader, my_model=True)"
   ],
   "outputs": [],
   "execution_count": null
  },
  {
   "metadata": {},
   "cell_type": "code",
   "source": [
    "# 创建网络实例\n",
    "my_model = MyNN(input_size, inner_size, output_size)\n",
    "params = my_model.get_params()\n",
    "optimizer = Adam(params)\n",
    "criterion = CrossEntropyLoss() \n",
    "\n",
    "print(\"MyNN\", f\"隐藏层大小:{inner_size}\", \"Adam优化器\")\n",
    "train(my_model, train_loader, criterion, optimizer, my_model=True)\n",
    "evaluate(my_model, test_loader, my_model=True)"
   ],
   "id": "85456f7e717024d",
   "outputs": [],
   "execution_count": null
  },
  {
   "metadata": {},
   "cell_type": "code",
   "source": "inner_size = 256",
   "id": "74fe1c1daed7f890",
   "outputs": [],
   "execution_count": null
  },
  {
   "metadata": {},
   "cell_type": "code",
   "source": [
    "my_model = MyNN(input_size, inner_size, output_size)\n",
    "params = my_model.get_params()\n",
    "optimizer = SimpleSGD(params)\n",
    "\n",
    "print(\"MyNN\", f\"隐藏层大小:{inner_size}\", \"SimpleSGD优化器\")\n",
    "criterion = CrossEntropyLoss() \n",
    "train(my_model, train_loader, criterion, optimizer, my_model=True)\n",
    "evaluate(my_model, test_loader, my_model=True)"
   ],
   "id": "f2035f406681dca3",
   "outputs": [],
   "execution_count": null
  },
  {
   "metadata": {},
   "cell_type": "code",
   "source": [
    "my_model = MyNN(input_size, inner_size, output_size)\n",
    "params = my_model.get_params()\n",
    "optimizer = Adam(params)\n",
    "criterion = CrossEntropyLoss() \n",
    "\n",
    "print(\"MyNN\", f\"隐藏层大小:{inner_size}\", \"Adam优化器\")\n",
    "train(my_model, train_loader, criterion, optimizer, my_model=True)\n",
    "evaluate(my_model, test_loader, my_model=True)"
   ],
   "id": "103a42d8a3b71da7",
   "outputs": [],
   "execution_count": null
  },
  {
   "metadata": {},
   "cell_type": "code",
   "source": "inner_size = 128",
   "id": "85c0f9a9a32e15f0",
   "outputs": [],
   "execution_count": null
  },
  {
   "cell_type": "code",
   "id": "6e0eea5a3292bfc5",
   "metadata": {},
   "source": [
    "# 创建网络实例\n",
    "torch_model = SimpleNN()\n",
    "optimizer = optim.Adam(torch_model.parameters(), lr=0.001)  # 使用 Adam 优化器# 损失函数和优化器\n",
    "criterion = torch.nn.CrossEntropyLoss()  # 交叉熵损失（用于分类任务）\n",
    "\n",
    "print(\"TorchNN\", f\"隐藏层大小:{inner_size}\", \"Adam优化器\")\n",
    "# 开始训练\n",
    "train(torch_model, train_loader, criterion, optimizer, my_model=False)\n",
    "\n",
    "# 评估模型\n",
    "evaluate(torch_model, test_loader, my_model=False)"
   ],
   "outputs": [],
   "execution_count": null
  },
  {
   "metadata": {
    "ExecuteTime": {
     "end_time": "2024-10-30T13:39:17.021652Z",
     "start_time": "2024-10-30T13:39:17.004553Z"
    }
   },
   "cell_type": "code",
   "source": "inner_size = 256",
   "id": "add015b442322223",
   "outputs": [],
   "execution_count": 14
  },
  {
   "metadata": {
    "jupyter": {
     "is_executing": true
    },
    "ExecuteTime": {
     "start_time": "2024-10-30T13:39:17.948685Z"
    }
   },
   "cell_type": "code",
   "source": [
    "# 创建网络实例\n",
    "torch_model = SimpleNN()\n",
    "optimizer = optim.Adam(torch_model.parameters(), lr=0.001)  # 使用 Adam 优化器# 损失函数和优化器\n",
    "criterion = torch.nn.CrossEntropyLoss()  # 交叉熵损失（用于分类任务）\n",
    "\n",
    "print(\"TorchNN\", f\"隐藏层大小:{inner_size}\", \"Adam优化器\")\n",
    "# 开始训练\n",
    "train(torch_model, train_loader, criterion, optimizer, my_model=False)\n",
    "\n",
    "# 评估模型\n",
    "evaluate(torch_model, test_loader, my_model=False)"
   ],
   "id": "7c995e6d68417f15",
   "outputs": [
    {
     "name": "stdout",
     "output_type": "stream",
     "text": [
      "TorchNN 隐藏层大小:256 Adam优化器\n"
     ]
    }
   ],
   "execution_count": null
  },
  {
   "metadata": {},
   "cell_type": "code",
   "source": "",
   "id": "a4a10e25fc3df18d",
   "outputs": [],
   "execution_count": null
  }
 ],
 "metadata": {
  "kernelspec": {
   "display_name": "allone",
   "language": "python",
   "name": "allone"
  },
  "language_info": {
   "codemirror_mode": {
    "name": "ipython",
    "version": 3
   },
   "file_extension": ".py",
   "mimetype": "text/x-python",
   "name": "python",
   "nbconvert_exporter": "python",
   "pygments_lexer": "ipython3",
   "version": "3.10.14"
  }
 },
 "nbformat": 4,
 "nbformat_minor": 5
}
