{
 "cells": [
  {
   "metadata": {
    "ExecuteTime": {
     "end_time": "2024-10-30T13:48:30.400856Z",
     "start_time": "2024-10-30T13:48:30.327241Z"
    }
   },
   "cell_type": "code",
   "source": [
    "import os\n",
    "\n",
    "import numpy.random\n",
    "\n",
    "os.chdir(\"C:\\\\Users\\\\86173\\\\Desktop\\\\eutopia\\\\my-ML-lib\")"
   ],
   "id": "eb3942253db4077d",
   "outputs": [],
   "execution_count": 1
  },
  {
   "metadata": {
    "ExecuteTime": {
     "end_time": "2024-10-30T13:48:31.996347Z",
     "start_time": "2024-10-30T13:48:30.404848Z"
    }
   },
   "cell_type": "code",
   "source": "import torch",
   "id": "acd5abf8e73f0f68",
   "outputs": [],
   "execution_count": 2
  },
  {
   "metadata": {
    "ExecuteTime": {
     "end_time": "2024-10-30T13:48:32.137913Z",
     "start_time": "2024-10-30T13:48:32.122914Z"
    }
   },
   "cell_type": "code",
   "source": "import numpy as np",
   "id": "bc9dbf907cbc3bfb",
   "outputs": [],
   "execution_count": 3
  },
  {
   "metadata": {
    "ExecuteTime": {
     "end_time": "2024-10-30T13:48:33.334614Z",
     "start_time": "2024-10-30T13:48:32.154515Z"
    }
   },
   "cell_type": "code",
   "source": "from torchvision import datasets, transforms",
   "id": "6c36f4ca4db3e5de",
   "outputs": [],
   "execution_count": 4
  },
  {
   "metadata": {
    "ExecuteTime": {
     "end_time": "2024-10-30T13:48:33.366615Z",
     "start_time": "2024-10-30T13:48:33.351604Z"
    }
   },
   "cell_type": "code",
   "source": "from torch.utils.data import DataLoader",
   "id": "90c4804c9f66aefc",
   "outputs": [],
   "execution_count": 5
  },
  {
   "metadata": {
    "ExecuteTime": {
     "end_time": "2024-10-30T13:48:33.398125Z",
     "start_time": "2024-10-30T13:48:33.384617Z"
    }
   },
   "cell_type": "code",
   "source": [
    "from MyDataLoader import *\n",
    "from MyCriterion import *\n",
    "from MyOptimizer import *\n",
    "from MyLayer import *\n",
    "from MyNeuralNetworks import *"
   ],
   "id": "ff186b6c4eb01186",
   "outputs": [],
   "execution_count": 6
  },
  {
   "metadata": {
    "ExecuteTime": {
     "end_time": "2024-10-30T13:48:33.430116Z",
     "start_time": "2024-10-30T13:48:33.415115Z"
    }
   },
   "cell_type": "code",
   "source": [
    "numpy.random.seed(42)\n",
    "torch.manual_seed(42)"
   ],
   "id": "9d0e0f713cac4abd",
   "outputs": [
    {
     "data": {
      "text/plain": [
       "<torch._C.Generator at 0x153bdbab150>"
      ]
     },
     "execution_count": 7,
     "metadata": {},
     "output_type": "execute_result"
    }
   ],
   "execution_count": 7
  },
  {
   "cell_type": "code",
   "id": "8f4a73886fb3ecf1",
   "metadata": {
    "ExecuteTime": {
     "end_time": "2024-10-30T13:48:33.508734Z",
     "start_time": "2024-10-30T13:48:33.447115Z"
    }
   },
   "source": [
    "# 数据预处理\n",
    "transform = transforms.Compose([\n",
    "    transforms.ToTensor(),  # 将图像转换为张量\n",
    "    # transforms.Normalize((0.5,), (0.5,))  # 归一化\n",
    "    transforms.Lambda(lambda x: x.view(-1)),  # 张量转换为一维\n",
    "])\n",
    "target_transform = transforms.Compose([\n",
    "    transforms.Lambda(lambda y: torch.zeros(10, dtype=torch.float).scatter_(dim=0, index=torch.tensor(y), value=1)),  # onehot\n",
    "])\n",
    "\n",
    "# 加载训练和测试数据集\n",
    "# m * (torch.Size([1, 28, 28]), int), 每个样本为(X, y)元组, 其中X是图片, y是标签\n",
    "train_dataset = datasets.MNIST(\n",
    "    root='./data', \n",
    "    train=True, \n",
    "    download=True, \n",
    "    transform=transform,\n",
    "    target_transform=target_transform\n",
    "    )\n",
    "test_dataset = datasets.MNIST(\n",
    "    root='./data', \n",
    "    train=False, \n",
    "    download=True, \n",
    "    transform=transform,\n",
    "    target_transform=target_transform\n",
    "    )\n",
    "\n",
    "train_loader = DataLoader(dataset=train_dataset, batch_size=64, shuffle=True)\n",
    "test_loader = DataLoader(dataset=test_dataset, batch_size=64, shuffle=False)\n"
   ],
   "outputs": [],
   "execution_count": 8
  },
  {
   "cell_type": "code",
   "id": "4482320c3deda9b8",
   "metadata": {
    "ExecuteTime": {
     "end_time": "2024-10-30T13:48:33.540254Z",
     "start_time": "2024-10-30T13:48:33.525242Z"
    }
   },
   "source": [
    "# 定义一个简单的神经网络\n",
    "class SimpleNN(torch.nn.Module):\n",
    "    def __init__(self):\n",
    "        super(SimpleNN, self).__init__()\n",
    "        # 定义层：一个两层的全连接网络\n",
    "        self.fc1 = torch.nn.Linear(input_size, inner_size)  # 输入层到隐藏层\n",
    "        self.fc2 = torch.nn.Linear(inner_size, output_size)  # 隐藏层到输出层\n",
    "\n",
    "    def forward(self, x):\n",
    "        x = x.view(-1, input_size)  # 展平输入（假设输入是28x28图像）\n",
    "        x = torch.relu(self.fc1(x))  # 激活函数 ReLU\n",
    "        x = self.fc2(x)  # 输出层\n",
    "        return x\n"
   ],
   "outputs": [],
   "execution_count": 9
  },
  {
   "metadata": {
    "ExecuteTime": {
     "end_time": "2024-10-30T13:48:33.572244Z",
     "start_time": "2024-10-30T13:48:33.558242Z"
    }
   },
   "cell_type": "code",
   "source": [
    "class MyNN(MyNeuralNetwork):\n",
    "    def __init__(self, input_size, hidden_size, output_size):\n",
    "        super(MyNN, self).__init__()\n",
    "        fc1 = FC_Layer(input_size, hidden_size)\n",
    "        relu1 = ReLu_Layer(hidden_size, hidden_size)\n",
    "        fc2 = FC_Layer(hidden_size, output_size)\n",
    "        self.layers = [fc1, relu1, fc2]\n",
    "        self.update_layer_list = [fc1, fc2]"
   ],
   "id": "a193cb0d59ec740b",
   "outputs": [],
   "execution_count": 10
  },
  {
   "cell_type": "code",
   "id": "7621bbddeb0f89d2",
   "metadata": {
    "ExecuteTime": {
     "end_time": "2024-10-30T13:48:33.603774Z",
     "start_time": "2024-10-30T13:48:33.588776Z"
    }
   },
   "source": [
    "import torch.optim as optim\n",
    "# 训练函数\n",
    "def train(model, train_loader, criterion, optimizer, num_epochs=5, lr=1e-3, my_model=True):\n",
    "    for epoch in range(num_epochs):\n",
    "        for images, labels in train_loader:\n",
    "            # 前向传播\n",
    "            if my_model:\n",
    "                images = images.numpy()\n",
    "                labels = labels.numpy()\n",
    "                \n",
    "                outputs = model.forward(images)\n",
    "                loss = criterion.forward(outputs, labels)\n",
    "                \n",
    "                in_grad = criterion.backward()\n",
    "                model.backward(in_grad)\n",
    "                grads = model.get_grads()\n",
    "                optimizer.step(grads)  # 更新参数\n",
    "            else:\n",
    "                outputs = model(images)\n",
    "                loss = criterion(outputs, labels)\n",
    "                # 反向传播和优化\n",
    "                optimizer.zero_grad()  # 清除上一步的梯度\n",
    "                loss.backward()  # 计算梯度\n",
    "                optimizer.step()  # 更新参数\n",
    "\n",
    "        print(f'Epoch [{epoch+1}/{num_epochs}], Loss: {loss.item():.4f}')"
   ],
   "outputs": [],
   "execution_count": 11
  },
  {
   "cell_type": "code",
   "id": "1f2257aeabf82c2d",
   "metadata": {
    "ExecuteTime": {
     "end_time": "2024-10-30T13:48:33.635766Z",
     "start_time": "2024-10-30T13:48:33.621765Z"
    }
   },
   "source": [
    "def evaluate(model, test_loader, my_model=True):\n",
    "    if not my_model:\n",
    "        model.eval()  # 切换到评估模式\n",
    "    correct = 0\n",
    "    total = 0\n",
    "    with torch.no_grad():\n",
    "        for images, labels in test_loader:\n",
    "            if my_model:\n",
    "                images = images.numpy()\n",
    "                outputs = model.forward(images)\n",
    "                outputs = torch.from_numpy(outputs)\n",
    "            else:\n",
    "                outputs = model(images)\n",
    "            _, predicted = torch.max(outputs.data, 1)\n",
    "            _, labels = torch.max(labels, 1)\n",
    "            total += labels.size(0)\n",
    "            correct += (predicted == labels).sum().item()\n",
    "\n",
    "    print(f'Accuracy of the model on the test dataset: {100 * correct / total:.2f}%')\n"
   ],
   "outputs": [],
   "execution_count": 12
  },
  {
   "metadata": {
    "ExecuteTime": {
     "end_time": "2024-10-30T13:48:33.667774Z",
     "start_time": "2024-10-30T13:48:33.652764Z"
    }
   },
   "cell_type": "code",
   "source": [
    "input_size = 28 * 28\n",
    "inner_size = 128\n",
    "output_size = 10"
   ],
   "id": "527f1ba1fa590eca",
   "outputs": [],
   "execution_count": 13
  },
  {
   "cell_type": "code",
   "id": "a92a287823e65180",
   "metadata": {
    "ExecuteTime": {
     "end_time": "2024-10-30T13:49:42.277474Z",
     "start_time": "2024-10-30T13:48:33.684768Z"
    }
   },
   "source": [
    "# 创建网络实例\n",
    "my_model = MyNN(input_size, inner_size, output_size)\n",
    "params = my_model.get_params()\n",
    "optimizer = SimpleSGD(params)\n",
    "criterion = CrossEntropyLoss() \n",
    "\n",
    "print(\"MyNN\", f\"隐藏层大小:{inner_size}\", \"SimpleSGD优化器\")\n",
    "train(my_model, train_loader, criterion, optimizer, my_model=True)\n",
    "evaluate(my_model, test_loader, my_model=True)"
   ],
   "outputs": [
    {
     "name": "stdout",
     "output_type": "stream",
     "text": [
      "MyNN 隐藏层大小:128 SimpleSGD优化器\n",
      "Epoch [1/5], Loss: 0.5476\n",
      "Epoch [2/5], Loss: 0.4903\n",
      "Epoch [3/5], Loss: 0.1580\n",
      "Epoch [4/5], Loss: 0.1405\n",
      "Epoch [5/5], Loss: 0.0928\n",
      "Accuracy of the model on the test dataset: 95.59%\n"
     ]
    }
   ],
   "execution_count": 14
  },
  {
   "metadata": {
    "ExecuteTime": {
     "end_time": "2024-10-30T13:51:01.221115Z",
     "start_time": "2024-10-30T13:49:42.313401Z"
    }
   },
   "cell_type": "code",
   "source": [
    "# 创建网络实例\n",
    "my_model = MyNN(input_size, inner_size, output_size)\n",
    "params = my_model.get_params()\n",
    "optimizer = Adam(params)\n",
    "criterion = CrossEntropyLoss() \n",
    "\n",
    "print(\"MyNN\", f\"隐藏层大小:{inner_size}\", \"Adam优化器\")\n",
    "train(my_model, train_loader, criterion, optimizer, my_model=True)\n",
    "evaluate(my_model, test_loader, my_model=True)"
   ],
   "id": "85456f7e717024d",
   "outputs": [
    {
     "name": "stdout",
     "output_type": "stream",
     "text": [
      "MyNN 隐藏层大小:128 Adam优化器\n",
      "Epoch [1/5], Loss: 0.4026\n",
      "Epoch [2/5], Loss: 0.0880\n",
      "Epoch [3/5], Loss: 0.0867\n",
      "Epoch [4/5], Loss: 0.0226\n",
      "Epoch [5/5], Loss: 0.0723\n",
      "Accuracy of the model on the test dataset: 97.33%\n"
     ]
    }
   ],
   "execution_count": 15
  },
  {
   "metadata": {
    "ExecuteTime": {
     "end_time": "2024-10-30T13:51:01.253214Z",
     "start_time": "2024-10-30T13:51:01.239106Z"
    }
   },
   "cell_type": "code",
   "source": "inner_size = 256",
   "id": "74fe1c1daed7f890",
   "outputs": [],
   "execution_count": 16
  },
  {
   "metadata": {
    "ExecuteTime": {
     "end_time": "2024-10-30T13:52:19.505516Z",
     "start_time": "2024-10-30T13:51:01.270279Z"
    }
   },
   "cell_type": "code",
   "source": [
    "my_model = MyNN(input_size, inner_size, output_size)\n",
    "params = my_model.get_params()\n",
    "optimizer = SimpleSGD(params)\n",
    "\n",
    "print(\"MyNN\", f\"隐藏层大小:{inner_size}\", \"SimpleSGD优化器\")\n",
    "criterion = CrossEntropyLoss() \n",
    "train(my_model, train_loader, criterion, optimizer, my_model=True)\n",
    "evaluate(my_model, test_loader, my_model=True)"
   ],
   "id": "f2035f406681dca3",
   "outputs": [
    {
     "name": "stdout",
     "output_type": "stream",
     "text": [
      "MyNN 隐藏层大小:256 SimpleSGD优化器\n",
      "Epoch [1/5], Loss: 0.2076\n",
      "Epoch [2/5], Loss: 0.1129\n",
      "Epoch [3/5], Loss: 0.2627\n",
      "Epoch [4/5], Loss: 0.2817\n",
      "Epoch [5/5], Loss: 0.0593\n",
      "Accuracy of the model on the test dataset: 95.54%\n"
     ]
    }
   ],
   "execution_count": 17
  },
  {
   "metadata": {
    "ExecuteTime": {
     "end_time": "2024-10-30T13:54:11.058510Z",
     "start_time": "2024-10-30T13:52:19.524654Z"
    }
   },
   "cell_type": "code",
   "source": [
    "my_model = MyNN(input_size, inner_size, output_size)\n",
    "params = my_model.get_params()\n",
    "optimizer = Adam(params)\n",
    "criterion = CrossEntropyLoss() \n",
    "\n",
    "print(\"MyNN\", f\"隐藏层大小:{inner_size}\", \"Adam优化器\")\n",
    "train(my_model, train_loader, criterion, optimizer, my_model=True)\n",
    "evaluate(my_model, test_loader, my_model=True)"
   ],
   "id": "103a42d8a3b71da7",
   "outputs": [
    {
     "name": "stdout",
     "output_type": "stream",
     "text": [
      "MyNN 隐藏层大小:256 Adam优化器\n",
      "Epoch [1/5], Loss: 0.3610\n",
      "Epoch [2/5], Loss: 0.1431\n",
      "Epoch [3/5], Loss: 0.1677\n",
      "Epoch [4/5], Loss: 0.0174\n",
      "Epoch [5/5], Loss: 0.0239\n",
      "Accuracy of the model on the test dataset: 97.60%\n"
     ]
    }
   ],
   "execution_count": 18
  },
  {
   "metadata": {
    "ExecuteTime": {
     "end_time": "2024-10-30T13:54:11.119640Z",
     "start_time": "2024-10-30T13:54:11.106640Z"
    }
   },
   "cell_type": "code",
   "source": "inner_size = 128",
   "id": "85c0f9a9a32e15f0",
   "outputs": [],
   "execution_count": 19
  },
  {
   "cell_type": "code",
   "id": "6e0eea5a3292bfc5",
   "metadata": {
    "ExecuteTime": {
     "end_time": "2024-10-30T13:57:03.672086Z",
     "start_time": "2024-10-30T13:54:11.140640Z"
    }
   },
   "source": [
    "# 创建网络实例\n",
    "torch_model = SimpleNN()\n",
    "optimizer = optim.Adam(torch_model.parameters(), lr=0.001)  # 使用 Adam 优化器# 损失函数和优化器\n",
    "criterion = torch.nn.CrossEntropyLoss()  # 交叉熵损失（用于分类任务）\n",
    "\n",
    "print(\"TorchNN\", f\"隐藏层大小:{inner_size}\", \"Adam优化器\")\n",
    "# 开始训练\n",
    "train(torch_model, train_loader, criterion, optimizer, my_model=False)\n",
    "\n",
    "# 评估模型\n",
    "evaluate(torch_model, test_loader, my_model=False)"
   ],
   "outputs": [
    {
     "name": "stdout",
     "output_type": "stream",
     "text": [
      "TorchNN 隐藏层大小:128 Adam优化器\n",
      "Epoch [1/5], Loss: 0.4533\n",
      "Epoch [2/5], Loss: 0.1709\n",
      "Epoch [3/5], Loss: 0.0933\n",
      "Epoch [4/5], Loss: 0.0324\n",
      "Epoch [5/5], Loss: 0.0103\n",
      "Accuracy of the model on the test dataset: 97.39%\n"
     ]
    }
   ],
   "execution_count": 20
  },
  {
   "metadata": {
    "ExecuteTime": {
     "end_time": "2024-10-30T13:57:03.704119Z",
     "start_time": "2024-10-30T13:57:03.690003Z"
    }
   },
   "cell_type": "code",
   "source": "inner_size = 256",
   "id": "add015b442322223",
   "outputs": [],
   "execution_count": 21
  },
  {
   "metadata": {
    "ExecuteTime": {
     "end_time": "2024-10-30T13:59:19.368670Z",
     "start_time": "2024-10-30T13:57:03.721759Z"
    }
   },
   "cell_type": "code",
   "source": [
    "# 创建网络实例\n",
    "torch_model = SimpleNN()\n",
    "optimizer = optim.Adam(torch_model.parameters(), lr=0.001)  # 使用 Adam 优化器# 损失函数和优化器\n",
    "criterion = torch.nn.CrossEntropyLoss()  # 交叉熵损失（用于分类任务）\n",
    "\n",
    "print(\"TorchNN\", f\"隐藏层大小:{inner_size}\", \"Adam优化器\")\n",
    "# 开始训练\n",
    "train(torch_model, train_loader, criterion, optimizer, my_model=False)\n",
    "\n",
    "# 评估模型\n",
    "evaluate(torch_model, test_loader, my_model=False)"
   ],
   "id": "7c995e6d68417f15",
   "outputs": [
    {
     "name": "stdout",
     "output_type": "stream",
     "text": [
      "TorchNN 隐藏层大小:256 Adam优化器\n",
      "Epoch [1/5], Loss: 0.0832\n",
      "Epoch [2/5], Loss: 0.2555\n",
      "Epoch [3/5], Loss: 0.0649\n",
      "Epoch [4/5], Loss: 0.0305\n",
      "Epoch [5/5], Loss: 0.1210\n",
      "Accuracy of the model on the test dataset: 97.74%\n"
     ]
    }
   ],
   "execution_count": 22
  },
  {
   "metadata": {
    "ExecuteTime": {
     "end_time": "2024-10-30T13:59:19.413914Z",
     "start_time": "2024-10-30T13:59:19.405914Z"
    }
   },
   "cell_type": "code",
   "source": "",
   "id": "a4a10e25fc3df18d",
   "outputs": [],
   "execution_count": null
  }
 ],
 "metadata": {
  "kernelspec": {
   "display_name": "allone",
   "language": "python",
   "name": "allone"
  },
  "language_info": {
   "codemirror_mode": {
    "name": "ipython",
    "version": 3
   },
   "file_extension": ".py",
   "mimetype": "text/x-python",
   "name": "python",
   "nbconvert_exporter": "python",
   "pygments_lexer": "ipython3",
   "version": "3.10.14"
  }
 },
 "nbformat": 4,
 "nbformat_minor": 5
}
